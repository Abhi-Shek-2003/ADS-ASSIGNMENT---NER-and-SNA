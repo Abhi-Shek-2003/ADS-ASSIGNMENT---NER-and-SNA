{
 "cells": [
  {
   "cell_type": "markdown",
   "metadata": {},
   "source": [
    "### 1) i.Describe Named Entity Recognition.\n",
    "\n",
    "   Named Entity Recognition (NER) is a crucial task in natural language processing (NLP) that involves identifying and categorizing named entities within a body of text into predefined categories such as names of persons, organizations, locations, dates, numerical expressions, and more. This technique is pivotal in various NLP applications like information retrieval, question answering, sentiment analysis, and machine translation.\n",
    "\n",
    "At its core, NER operates by utilizing machine learning algorithms, typically supervised learning methods, to classify words or phrases in text into predefined categories. These algorithms are trained on labeled datasets, where each word or phrase is tagged with its corresponding entity type. Commonly used machine learning techniques for NER include conditional random fields (CRFs), support vector machines (SVMs), and deep learning approaches like recurrent neural networks (RNNs) and transformers.\n",
    "\n",
    "The process of NER involves several steps:\n",
    "\n",
    "1. **Preprocessing**: The input text is tokenized into individual words or subword units, and often preprocessed to remove noise, such as stop words or punctuation.\n",
    "\n",
    "2. **Feature Extraction**: Relevant features are extracted from the text to provide meaningful information to the machine learning model. These features can include word embeddings, part-of-speech tags, and syntactic features.\n",
    "\n",
    "3. **Training**: The model is trained on a labeled dataset, where each word or phrase is annotated with its corresponding entity type. During training, the model learns to recognize patterns and associations between words and entity types.\n",
    "\n",
    "4. **Inference**: Once trained, the model is applied to new, unseen text to identify named entities. This involves predicting the entity type for each word or phrase in the text.\n",
    "\n",
    "NER is widely used in various real-world applications. For example, consider the sentence:\n",
    "\n",
    "\"Apple Inc. was founded by Steve Jobs, Steve Wozniak, and Ronald Wayne on April 1, 1976, in Cupertino, California.\"\n",
    "\n",
    "In this sentence, NER would identify the following named entities:\n",
    "\n",
    "- \"Apple Inc.\" as an organization.\n",
    "- \"Steve Jobs,\" \"Steve Wozniak,\" and \"Ronald Wayne\" as persons.\n",
    "- \"April 1, 1976\" as a date.\n",
    "- \"Cupertino, California\" as a location.\n",
    "\n",
    "This example illustrates how NER can extract meaningful information from text by identifying and categorizing named entities.\n",
    "\n",
    "NER systems can be further enhanced by incorporating domain-specific knowledge, leveraging contextual information, and utilizing ensemble methods to improve accuracy. However, NER also faces challenges such as handling ambiguous entities, dealing with out-of-vocabulary words, and adapting to different languages and domains.\n",
    "\n",
    "In conclusion, Named Entity Recognition plays a crucial role in extracting structured information from unstructured text, enabling various NLP applications to analyze and understand text more effectively. Through the use of machine learning algorithms and linguistic techniques, NER systems can automatically identify and classify named entities, facilitating tasks such as information extraction, knowledge discovery, and semantic understanding."
   ]
  },
  {
   "cell_type": "markdown",
   "metadata": {},
   "source": [
    "### ii. Write a python code to recognize named entities in a document. The input should be a text file containing 200 - 300 words in it. The output should be written to another file"
   ]
  },
  {
   "cell_type": "code",
   "execution_count": 5,
   "metadata": {},
   "outputs": [],
   "source": [
    "import spacy\n",
    "from spacy.matcher import Matcher"
   ]
  },
  {
   "cell_type": "code",
   "execution_count": 6,
   "metadata": {},
   "outputs": [],
   "source": [
    "nlp = spacy.load(\"en_core_web_sm\")"
   ]
  },
  {
   "cell_type": "code",
   "execution_count": 7,
   "metadata": {},
   "outputs": [],
   "source": [
    "input_file_path =\"C:/Users/91709/Downloads/ADS-main/ADS Assignment/1/Input file.txt\"\n",
    "output_file_path =\"C:/Users/91709/Downloads/ADS-main/ADS Assignment/1/Output file.txt\"\n"
   ]
  },
  {
   "cell_type": "code",
   "execution_count": 8,
   "metadata": {},
   "outputs": [],
   "source": [
    "\n",
    "    # Read the input file\n",
    "with open(input_file_path, \"r\") as f:\n",
    " text = f.read()\n"
   ]
  },
  {
   "cell_type": "code",
   "execution_count": 9,
   "metadata": {},
   "outputs": [],
   "source": [
    "# Process the text using spaCy\n",
    "doc = nlp(text)"
   ]
  },
  {
   "cell_type": "code",
   "execution_count": 10,
   "metadata": {},
   "outputs": [],
   "source": [
    "# Initialize an empty list to store the named entities\n",
    "entities = []\n"
   ]
  },
  {
   "cell_type": "code",
   "execution_count": 11,
   "metadata": {},
   "outputs": [],
   "source": [
    "# Iterate through the named entities in the document\n",
    "for ent in doc.ents:\n",
    "    # Append the named entity to the list\n",
    "    entities.append((ent.text, ent.start_char, ent.end_char, ent.label_))"
   ]
  },
  {
   "cell_type": "code",
   "execution_count": 12,
   "metadata": {},
   "outputs": [],
   "source": [
    "# Write the named entities to the output file\n",
    "with open(output_file_path, \"w\") as f:\n",
    "    for ent in entities:\n",
    "        f.write(f\"{ent[0]} {ent[1]} {ent[2]} {ent[3]}\\n\")"
   ]
  },
  {
   "cell_type": "code",
   "execution_count": 13,
   "metadata": {},
   "outputs": [
    {
     "name": "stdout",
     "output_type": "stream",
     "text": [
      "Named entities have been written to the output file.\n"
     ]
    }
   ],
   "source": [
    "print(\"Named entities have been written to the output file.\")"
   ]
  },
  {
   "cell_type": "code",
   "execution_count": null,
   "metadata": {},
   "outputs": [],
   "source": []
  },
  {
   "cell_type": "code",
   "execution_count": null,
   "metadata": {},
   "outputs": [],
   "source": []
  }
 ],
 "metadata": {
  "kernelspec": {
   "display_name": "Python 3 (ipykernel)",
   "language": "python",
   "name": "python3"
  },
  "language_info": {
   "codemirror_mode": {
    "name": "ipython",
    "version": 3
   },
   "file_extension": ".py",
   "mimetype": "text/x-python",
   "name": "python",
   "nbconvert_exporter": "python",
   "pygments_lexer": "ipython3",
   "version": "3.10.9"
  }
 },
 "nbformat": 4,
 "nbformat_minor": 2
}
